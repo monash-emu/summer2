{
 "cells": [
  {
   "cell_type": "code",
   "execution_count": null,
   "id": "9bdc29c8",
   "metadata": {},
   "outputs": [],
   "source": [
    "import pandas as pd\n",
    "import numpy as np\n",
    "from jax import numpy as jnp\n",
    "\n",
    "from summer2 import CompartmentalModel, Stratification, population\n",
    "from summer2.parameters import Function, Parameter\n",
    "\n",
    "pd.options.plotting.backend=\"plotly\""
   ]
  },
  {
   "cell_type": "code",
   "execution_count": null,
   "id": "13d75a2d",
   "metadata": {},
   "outputs": [],
   "source": [
    "m = CompartmentalModel([0,100], [\"S\",\"I\",\"R\"],[\"I\"])\n",
    "\n",
    "age_strat = Stratification(\"agegroup\", [\"young\", \"old\"], [\"S\",\"I\",\"R\"])\n",
    "m.stratify_with(age_strat)\n",
    "\n",
    "state_strat = Stratification(\"state\", [\"WA\",\"other\"], [\"S\",\"I\",\"R\"])\n",
    "m.stratify_with(state_strat)\n",
    "\n",
    "imm_strat = Stratification(\"imm\", [\"vacc\",\"unvacc\"], [\"S\",\"I\",\"R\"])\n",
    "m.stratify_with(imm_strat)\n"
   ]
  },
  {
   "cell_type": "code",
   "execution_count": null,
   "id": "e2c44446",
   "metadata": {},
   "outputs": [],
   "source": [
    "state_pop_info = {\n",
    "    \"WA_young\": 1000.0,\n",
    "    \"WA_old\": 2000.0,\n",
    "    \"other_young\": 10000.0,\n",
    "    \"other_old\": 30000.0\n",
    "}\n",
    "\n",
    "imm_scale = {\n",
    "    \"vacc_young\": Parameter(\"vacc_young\"),\n",
    "    \"vacc_old\": Parameter(\"vacc_old\"),\n",
    "    \"unvacc_young\": 1.0 - Parameter(\"vacc_young\"),\n",
    "    \"unvacc_old\": 1.0 - Parameter(\"vacc_old\")\n",
    "}"
   ]
  },
  {
   "cell_type": "code",
   "execution_count": null,
   "id": "4e322bbb",
   "metadata": {},
   "outputs": [],
   "source": [
    "def get_init_pop(imm_scale):\n",
    "    init_pop = jnp.zeros(len(m.compartments), dtype=np.float64)\n",
    "    for agegroup in m.stratifications[\"agegroup\"].strata:\n",
    "        for imm in m.stratifications[\"imm\"].strata:\n",
    "            for state in m.stratifications[\"state\"].strata:\n",
    "                q = m.query_compartments({\"name\": \"S\", \"agegroup\": agegroup, \"imm\": imm, \"state\": state}, as_idx=True)\n",
    "                state_pinfo_str = f\"{state}_{agegroup}\"\n",
    "                imm_scale_str = f\"{imm}_{agegroup}\"\n",
    "                init_pop = init_pop.at[q].set(state_pop_info[state_pinfo_str] * imm_scale[imm_scale_str])\n",
    "    return init_pop"
   ]
  },
  {
   "cell_type": "code",
   "execution_count": null,
   "id": "e7a6e97c",
   "metadata": {},
   "outputs": [],
   "source": [
    "m.init_population_with_graphobject(Function(get_init_pop, [imm_scale]))"
   ]
  },
  {
   "cell_type": "code",
   "execution_count": null,
   "id": "3474103d",
   "metadata": {},
   "outputs": [],
   "source": [
    "parameters = {\"vacc_young\": 0.2, \"vacc_old\": 0.6}\n",
    "m.get_initial_population(parameters)"
   ]
  },
  {
   "cell_type": "code",
   "execution_count": null,
   "id": "67fdaa3c",
   "metadata": {},
   "outputs": [],
   "source": [
    "m.run(parameters)\n",
    "m.get_outputs_df().plot()"
   ]
  }
 ],
 "metadata": {
  "kernelspec": {
   "display_name": "Python 3 (ipykernel)",
   "language": "python",
   "name": "python3"
  },
  "language_info": {
   "codemirror_mode": {
    "name": "ipython",
    "version": 3
   },
   "file_extension": ".py",
   "mimetype": "text/x-python",
   "name": "python",
   "nbconvert_exporter": "python",
   "pygments_lexer": "ipython3",
   "version": "3.10.10"
  }
 },
 "nbformat": 4,
 "nbformat_minor": 5
}
