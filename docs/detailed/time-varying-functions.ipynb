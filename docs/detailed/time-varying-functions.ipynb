{
 "cells": [
  {
   "cell_type": "markdown",
   "metadata": {},
   "source": [
    "# Time varying functions\n",
    "\n",
    "While it is possible to construct arbitary time varying functions for use in summer2 models, there are a few cases that are sufficiently common for convenience functions to be supplied.\n",
    "  \n",
    "In particular, we cover the interpolation of sparse data points into their floating point equivalents (functions operating across the real numbers), as well as the composition of such functions into more complicated forms."
   ]
  },
  {
   "cell_type": "code",
   "execution_count": null,
   "metadata": {},
   "outputs": [],
   "source": [
    "from summer2 import CompartmentalModel\n",
    "\n",
    "# Import the Parameter and Time graphobject definitions\n",
    "from summer2.parameters import Parameter, Time\n",
    "\n",
    "# Convenience methods for time varying functions are contained in this module\n",
    "from summer2.functions import time as stf\n",
    "\n",
    "# ... and some external libraries\n",
    "import numpy as np\n",
    "import pandas as pd\n",
    "from jax import numpy as jnp\n"
   ]
  },
  {
   "cell_type": "markdown",
   "metadata": {},
   "source": [
    "### Linear interpolation"
   ]
  },
  {
   "cell_type": "code",
   "execution_count": null,
   "metadata": {},
   "outputs": [],
   "source": [
    "# Construct some synthetic data to interpolate\n",
    "\n",
    "# x points (index)\n",
    "x_points = np.array((0.0,1.0,2.0))\n",
    "# y points (data)\n",
    "y_points = x_points ** 2.0\n",
    "\n",
    "s = pd.Series(index=x_points, data=y_points)\n",
    "s.plot()"
   ]
  },
  {
   "cell_type": "code",
   "execution_count": null,
   "metadata": {},
   "outputs": [],
   "source": [
    "# Interpolators are accessed via the get_*_interpolation_function functions\n",
    "\n",
    "f_go = stf.get_linear_interpolation_function(x_points, y_points)\n",
    "f_go"
   ]
  },
  {
   "cell_type": "code",
   "execution_count": null,
   "metadata": {},
   "outputs": [],
   "source": [
    "# Although jax does not natively support Pandas datatypes, the interpolator constructors\n",
    "# will recognise these as inputs and convert them appropriately, so it is often more\n",
    "# convenient to use these values directly if your data is already in a Pandas Series\n",
    "\n",
    "f_go = stf.get_linear_interpolation_function(s.index, s)\n",
    "f_go"
   ]
  },
  {
   "cell_type": "markdown",
   "metadata": {},
   "source": [
    "### Inspecting the graph\n",
    "\n",
    "As with all ComputeGraph Functions, we can inspect the graph to determine the structure of the resulting object.\n",
    "\n",
    "Our x and y inputs are captured as Data objects, which are then processed by the get_scale_data function; this simply processes the inputs in a way that is easier to consume by the internal functions of the final interpolator."
   ]
  },
  {
   "cell_type": "code",
   "execution_count": null,
   "metadata": {},
   "outputs": [],
   "source": [
    "f_go.get_graph().draw()"
   ]
  },
  {
   "cell_type": "markdown",
   "metadata": {},
   "source": [
    "While we could construct a callable directly from the graph, it is often quicker to use the get_time_callable convenience function, which will provide a callable taking a float or array as its time argument, and an optional parameters dictionary (we will cover this in the next section).  \n",
    "Note that the returned function is a compiled jax function, and as such will return jax.Array types as its output"
   ]
  },
  {
   "cell_type": "code",
   "execution_count": null,
   "metadata": {},
   "outputs": [],
   "source": [
    "ft = stf.get_time_callable(f_go)\n",
    "ft(0.5)"
   ]
  },
  {
   "cell_type": "code",
   "execution_count": null,
   "metadata": {},
   "outputs": [],
   "source": [
    "# To test the function across its whole domain, use an array as input\n",
    "\n",
    "tvals = np.linspace(-1.0,3.0,101)\n",
    "yvals = ft(tvals)"
   ]
  },
  {
   "cell_type": "markdown",
   "metadata": {},
   "source": [
    "Visualising the resulting output shows that we capture the data as expected.  \n",
    "Outside the original bounds (x points), our function simply extends the first and last (y) values of the input"
   ]
  },
  {
   "cell_type": "code",
   "execution_count": null,
   "metadata": {},
   "outputs": [],
   "source": [
    "# Plot the results using Pandas\n",
    "pd.Series(index=tvals,data=yvals).plot()"
   ]
  },
  {
   "cell_type": "markdown",
   "metadata": {},
   "source": [
    "### Using GraphObjects as arguments\n",
    "\n",
    "In the previous example, we have directly supplied numerical arrays as the inputs to our interpolator.  \n",
    "There will be many practical situations where the required inputs depend on runtime information, such as Parameters, or the outputs of other Functions, and the below examples detail such use cases\n",
    "\n"
   ]
  },
  {
   "cell_type": "code",
   "execution_count": null,
   "metadata": {},
   "outputs": [],
   "source": [
    "# Example 1 - fixed x (index) points, but parameterized y values\n",
    "\n",
    "x_points = np.array((0.0, 5.0, 10.0))\n",
    "# Use a list here rather than an array - see Note below for details\n",
    "y_points = [0.0,Parameter(\"inflection_value\"),0.0]\n",
    "\n",
    "f_param = stf.get_linear_interpolation_function(x_points, y_points)"
   ]
  },
  {
   "cell_type": "code",
   "execution_count": null,
   "metadata": {},
   "outputs": [],
   "source": [
    "f_param_callable = stf.get_time_callable(f_param)\n",
    "f_param_callable(np.linspace(0.0,10.0,11), {\"inflection_value\": 2.2})"
   ]
  },
  {
   "cell_type": "code",
   "execution_count": null,
   "metadata": {},
   "outputs": [],
   "source": [
    "# Output changes as expected for parameterized input\n",
    "stf.get_time_callable(f_param)(np.linspace(0.0,10.0,11), {\"inflection_value\": -0.1})"
   ]
  },
  {
   "cell_type": "markdown",
   "metadata": {},
   "source": [
    "**_Note:_**\n",
    "Attempting to construct an array directly from GraphObjects, as in the following code, will result in an error if called with jnp.array, or silently construct a nonsense array if using np.array\n",
    "\n",
    "During model construction, our real intent is to construct a GraphObject that returns an array, rather than an Array that contains GraphObjects\n",
    "\n",
    "```\n",
    "jnp.array([Parameter('x'), 1.0])\n",
    "\n",
    "TypeError: Value 'Parameter x' with dtype object is not a valid JAX array type. Only arrays of numeric types are supported by JAX.\n",
    "```\n",
    "\n",
    "The get_*_interpolation_function constructors will automatically handle a variety of input types - in the case of the list constructor, it will call summer2.functions.util.capture_array behind the scenes, which will build the appropriate array-returning GraphObject; see the graph output below\n",
    "\n",
    "For this reason, always use the idiomatic list type as shown above, or for more complex types, construct an appropriate ComputeGraph Function to use as input to the interpolators.\n"
   ]
  },
  {
   "cell_type": "code",
   "execution_count": null,
   "metadata": {},
   "outputs": [],
   "source": [
    "f_param.get_graph().draw()"
   ]
  },
  {
   "cell_type": "markdown",
   "metadata": {},
   "source": [
    "In the following example, we construct a complicated (but fairly arbitrary) Function, that produces a sinusoid with a user adjustable frequency, that scales to 0.0 at either end of the input domain (with a user specified inflection point ).  Such functions might show up, for example, when modelling seasonably variable effects."
   ]
  },
  {
   "cell_type": "code",
   "execution_count": null,
   "metadata": {},
   "outputs": [],
   "source": [
    "# Input contains GraphObjects - use a list\n",
    "x_points = [0.0, Parameter(\"inflection_time\"), 10.0]\n",
    "\n",
    "# Calling numpy ufuncs on a GraphObject will produce another GraphObject\n",
    "# It is of course possible to construct an equivalent Function manually,\n",
    "# but much much easier to use the ufunc idiom for convenience\n",
    "# Just remember that all internal model functions need to use jax,\n",
    "# and so you must use jnp (rather than np) when writing your own functions\n",
    "sin_t = np.sin(Time * Parameter(\"time_scale\") * np.pi)\n",
    "\n",
    "# Input contains GraphObjects - use a list\n",
    "y_points = [0.0,sin_t,0.0]\n",
    "\n",
    "f_complicated = stf.get_linear_interpolation_function(x_points, y_points)"
   ]
  },
  {
   "cell_type": "code",
   "execution_count": null,
   "metadata": {},
   "outputs": [],
   "source": [
    "f_complicated_callable = stf.get_time_callable(f_complicated)\n",
    "\n",
    "in_domain = np.linspace(0.0,10.0,100)\n",
    "\n",
    "# This function requires values for the Parameters we specified above\n",
    "output = f_complicated_callable(in_domain, {\"inflection_time\": 1.0, \"time_scale\": 2.0})\n",
    "pd.Series(output, index=in_domain).plot()"
   ]
  },
  {
   "cell_type": "code",
   "execution_count": null,
   "metadata": {},
   "outputs": [],
   "source": [
    "output = f_complicated_callable(in_domain, {\"inflection_time\": 9.0, \"time_scale\": 0.5})\n",
    "pd.Series(output, index=in_domain).plot()"
   ]
  },
  {
   "cell_type": "markdown",
   "metadata": {},
   "source": [
    "### Sigmoidal Interpolators\n",
    "\n",
    "Summer2 also provides a piecewise sigmoidal interpolator, available via the get_sigmoidal_interpolation_function  \n",
    "  \n",
    "This takes an optional curvature argument, but has otherwise the same interface as the linear equivalent\n",
    "\n",
    "This function produces output with a continuous derivative, so is useful for 'smooth' processes, or where extreme values might cause numerical noise with linear interpolation.  Unlike spline interpolation, each piecewise segment is guaranteed never to exceed the bounds of its input values"
   ]
  },
  {
   "cell_type": "code",
   "execution_count": null,
   "metadata": {},
   "outputs": [],
   "source": [
    "# x points (index)\n",
    "x_points = jnp.arange(5)\n",
    "# y points (data)\n",
    "y_points = jnp.array([0.0,1.0,-2.0,0.5,3.0])\n",
    "\n",
    "s = pd.Series(index=x_points, data=y_points)"
   ]
  },
  {
   "cell_type": "code",
   "execution_count": null,
   "metadata": {},
   "outputs": [],
   "source": [
    "f_sig = stf.get_sigmoidal_interpolation_function(s.index, s) # curvature defaults to 16.0\n",
    "\n",
    "in_domain = np.linspace(0.0,4.0, 101)\n",
    "\n",
    "s.plot()\n",
    "pd.Series(stf.get_time_callable(f_sig)(in_domain), index=in_domain).plot()\n"
   ]
  },
  {
   "cell_type": "markdown",
   "metadata": {},
   "source": [
    "The curvature argument determines both the smoothness and the 'squashing' applied to each segment.\n",
    "At a value of 1.0, it is equiavalent to linear interpolation, and at high values it approximates a step function"
   ]
  },
  {
   "cell_type": "code",
   "execution_count": null,
   "metadata": {},
   "outputs": [],
   "source": [
    "in_domain = np.linspace(0.0,4.0, 101)\n",
    "\n",
    "out_df = pd.DataFrame(index=in_domain)\n",
    "\n",
    "for curvature in [1.0, 8.0, 16.0, 128.0]:\n",
    "    f_sig = stf.get_sigmoidal_interpolation_function(s.index, s, curvature=curvature)\n",
    "    out_df[curvature] = stf.get_time_callable(f_sig)(in_domain)\n",
    "\n",
    "out_df.plot()"
   ]
  },
  {
   "cell_type": "markdown",
   "metadata": {},
   "source": [
    "### Piecewise functions\n",
    "\n",
    "The interface to this function differs slightly from the interpolators shown above, in that the length of its x input (breakpoints) is always 1 less than that of the y input (values).  This reflects the fact that its values are constant over ranges, rather than interpolated between known values _at_ breakpoints"
   ]
  },
  {
   "cell_type": "code",
   "execution_count": null,
   "metadata": {},
   "outputs": [],
   "source": [
    "# Supply constant numerical arguments to produce a step function\n",
    "\n",
    "f_step = stf.get_piecewise_function(np.array((0.0,1.0)), np.array((-1.0,0.0,1.0)))"
   ]
  },
  {
   "cell_type": "code",
   "execution_count": null,
   "metadata": {},
   "outputs": [],
   "source": [
    "in_domain = np.linspace(-1.0,2.0,101)\n",
    "output = stf.get_time_callable(f_step)(in_domain)\n",
    "\n",
    "pd.Series(output, index=in_domain).plot()"
   ]
  },
  {
   "cell_type": "markdown",
   "metadata": {},
   "source": [
    "### Composition\n",
    "\n",
    "get_piecewise_function is extremely useful for composing functions that might be expressed using if/else control structures in python, but would require the use of alternative techniques in jax\n",
    "  \n",
    "Consider the following example; the 'baseline' output is a linear ramp from 0.0 to 1.0, over the time domain of 0.0, 10.0\n",
    "\n",
    "However, we also want to inject a fixed value of 0.0 between times 4.0 and 5.0 (perhaps we are modelling something like an intervention where no transmission should occur)\n",
    "\n",
    "Typical python code for this may look something like the following;\n",
    "\n",
    "```\n",
    "def inject_zero(t):\n",
    "\n",
    "    # Assume this function exists and does what we want it to...\n",
    "    x = generate_linear_baseline(t)\n",
    "\n",
    "    if 4.0 <= t < 5.0:\n",
    "        return 0.0\n",
    "    else:\n",
    "        return x\n",
    "```\n"
   ]
  },
  {
   "cell_type": "code",
   "execution_count": null,
   "metadata": {},
   "outputs": [],
   "source": [
    "# Create our 'baseline' linear interpolator\n",
    "f_linear_baseline = stf.get_linear_interpolation_function(np.array((0.0,10.0)), np.array((0.0,1.0)))\n",
    "\n",
    "# Use get_piecewise_function to compose the above function with the 0.0 range\n",
    "f_overlay_zero = stf.get_piecewise_function(np.array((4.0,5.0)), [f_linear_baseline,0.0, f_linear_baseline])"
   ]
  },
  {
   "cell_type": "code",
   "execution_count": null,
   "metadata": {},
   "outputs": [],
   "source": [
    "in_domain = np.linspace(0.0,10.0,100)\n",
    "output = stf.get_time_callable(f_overlay_zero)(in_domain)\n",
    "\n",
    "pd.Series(output, index=in_domain).plot()"
   ]
  },
  {
   "cell_type": "markdown",
   "metadata": {},
   "source": [
    "While the above example only uses a single range (2 breakpoints), it can easily be extended to an arbitrary number of ranges, each with their own inputs"
   ]
  },
  {
   "cell_type": "markdown",
   "metadata": {},
   "source": [
    "### Using the functions in a CompartmentalModel\n",
    "\n",
    "While all the above examples demonstrate how to evaluate time varying functions in a standalone context (which is valuable during development and debugging), you probably want to use them in a model!  \n",
    "\n",
    "In this example we use the above 'composed' function to vary infection rates in a simple SIR model"
   ]
  },
  {
   "cell_type": "code",
   "execution_count": null,
   "metadata": {},
   "outputs": [],
   "source": [
    "m = CompartmentalModel([0.0, 10.0], [\"S\",\"I\",\"R\"], [\"I\"], timestep=0.1)\n",
    "m.set_initial_population({\"S\": 100.0, \"I\": 1.0})\n",
    "\n",
    "# Add an infection frequency flow that uses the time varying function defined above\n",
    "m.add_infection_frequency_flow(\"infection\", f_overlay_zero * Parameter(\"contact_rate\"), \"S\", \"I\")\n",
    "\n",
    "# Add a fixed rate recovery flow\n",
    "m.add_transition_flow(\"recovery\", 1.0, \"I\", \"R\")"
   ]
  },
  {
   "cell_type": "code",
   "execution_count": null,
   "metadata": {},
   "outputs": [],
   "source": [
    "# As expected, transmission gradually increases over time, but there is no transmission from times 4.0 to 5.0\n",
    "\n",
    "m.run({\"contact_rate\": 10.0})\n",
    "m.get_outputs_df().plot()"
   ]
  }
 ],
 "metadata": {
  "kernelspec": {
   "display_name": "jax310",
   "language": "python",
   "name": "python3"
  },
  "language_info": {
   "codemirror_mode": {
    "name": "ipython",
    "version": 3
   },
   "file_extension": ".py",
   "mimetype": "text/x-python",
   "name": "python",
   "nbconvert_exporter": "python",
   "pygments_lexer": "ipython3",
   "version": "3.10.10"
  },
  "orig_nbformat": 4
 },
 "nbformat": 4,
 "nbformat_minor": 2
}
