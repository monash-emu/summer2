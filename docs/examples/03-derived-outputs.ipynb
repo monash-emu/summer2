{
 "cells": [
  {
   "attachments": {},
   "cell_type": "markdown",
   "id": "necessary-institution",
   "metadata": {},
   "source": [
    "# Calculating derived outputs\n",
    "\n",
    "In the [previous example](./01-basic-model.ipynb), we saw how to create and run a compartmental model.\n",
    "\n",
    "This example shows you how you can request more detailed outputs from the model, in addition to just the compartment sizes. Summer supports the calculation of \"derived outputs\": these are additional outputs that are calculated from either:\n",
    "\n",
    "- the model compartment sizes for each timestep; or\n",
    "- the model flow rates at each timestep\n",
    "\n",
    "There are several different types of derived outputs that will be presented in this example:\n",
    "\n",
    "- **[Flow output](../api/model.rst#summer2.model.CompartmentalModel.request_output_for_flow)**: A sum of one or more flow rates at each timestep\n",
    "- **[Compartment output](../api/model.rst#summer2.model.CompartmentalModel.request_output_for_compartments)**: A sum of one or more compartment sizes at each timestep\n",
    "- **[Aggregate output](../api/model.rst#summer2.model.CompartmentalModel.request_aggregate_output)**: An aggregate of other derived outputs\n",
    "- **[Cumulative output](../api/model.rst#summer2.model.CompartmentalModel.request_cumulative_output)**: A cumulative sum of another derived output\n",
    "- **[Function output](../api/model.rst#summer2.model.CompartmentalModel.request_function_output)**: A pure function of other derived outputs\n",
    "\n",
    "To start, let's define some utility functions to create a SIR model that is similar to the one from the last example:"
   ]
  },
  {
   "cell_type": "code",
   "execution_count": null,
   "id": "chemical-earthquake",
   "metadata": {},
   "outputs": [],
   "source": [
    "from summer2 import CompartmentalModel\n",
    "import pandas as pd\n",
    "pd.options.plotting.backend = \"plotly\"\n",
    "\n",
    "def build_model():\n",
    "    \"\"\"Returns a new SIR model\"\"\"\n",
    "    model = CompartmentalModel(\n",
    "        times=[0, 20],\n",
    "        compartments=[\"S\", \"I\", \"R\"],\n",
    "        infectious_compartments=[\"I\"],\n",
    "        timestep=0.1,\n",
    "    )\n",
    "    model.set_initial_population(distribution={\"S\": 990, \"I\": 10})\n",
    "    model.add_infection_frequency_flow(name=\"infection\", contact_rate=2, source=\"S\", dest=\"I\")\n",
    "    model.add_transition_flow(name=\"recovery\", fractional_rate=1/3, source=\"I\", dest=\"R\")\n",
    "    model.add_death_flow(name=\"infection_death\", death_rate=0.05, source=\"I\")\n",
    "    return model\n"
   ]
  },
  {
   "cell_type": "markdown",
   "id": "ignored-wrong",
   "metadata": {},
   "source": [
    "Let's quickly visualize what the compartments are doing over time:"
   ]
  },
  {
   "cell_type": "code",
   "execution_count": null,
   "id": "undefined-stretch",
   "metadata": {},
   "outputs": [],
   "source": [
    "model = build_model()\n",
    "model.run()\n",
    "\n",
    "model.get_outputs_df().plot()"
   ]
  },
  {
   "cell_type": "markdown",
   "id": "alternative-williams",
   "metadata": {},
   "source": [
    "## Requesting derived outputs\n",
    "\n",
    "We can ask a model to calculate extra outputs that are derived from the compartment sizes and flow rates. For example, we might want to ask the model to track the number of people who died from infection per timestep."
   ]
  },
  {
   "cell_type": "code",
   "execution_count": null,
   "id": "referenced-luther",
   "metadata": {},
   "outputs": [],
   "source": [
    "# Create a model (see above)\n",
    "model = build_model()\n",
    "\n",
    "# Request that the model calculate a derived output when it is run.\n",
    "model.request_output_for_flow(name=\"deaths\", flow_name=\"infection_death\")"
   ]
  },
  {
   "cell_type": "markdown",
   "id": "satellite-sunday",
   "metadata": {},
   "source": [
    "Now when we run the model, the infections deaths will be available in a DataFrame that we can access via `model.get_derived_outputs_df()`.\n",
    "The raw values for these are also available as a dictionary of numpy arrays via `model.derived_outputs`"
   ]
  },
  {
   "cell_type": "code",
   "execution_count": null,
   "id": "acquired-trick",
   "metadata": {},
   "outputs": [],
   "source": [
    "# Run the model\n",
    "model.run()\n",
    "\n",
    "# View the derived outputs dictionary that we calculated when `run()` was called.\n",
    "model.get_derived_outputs_df()"
   ]
  },
  {
   "attachments": {},
   "cell_type": "markdown",
   "id": "unable-marketplace",
   "metadata": {},
   "source": [
    "## Flow outputs\n",
    "\n",
    "A **[flow output](../api/model.rst#summer2.model.CompartmentalModel.request_output_for_flow)** tracks a set of requested flow rates for each timestep. These requests can also select flows between particular strata in a stratified model (see later examples)."
   ]
  },
  {
   "cell_type": "code",
   "execution_count": null,
   "id": "interior-desperate",
   "metadata": {},
   "outputs": [],
   "source": [
    "model = build_model()\n",
    "\n",
    "# Request that the 'infection_death' flow is tracked as a derived output named 'deaths'.\n",
    "model.request_output_for_flow(name=\"deaths\", flow_name=\"infection_death\")\n",
    "\n",
    "model.run()\n",
    "model.get_derived_outputs_df().plot()"
   ]
  },
  {
   "attachments": {},
   "cell_type": "markdown",
   "id": "bored-elder",
   "metadata": {},
   "source": [
    "## Cumulative outputs\n",
    "\n",
    "You can use a  **[cumulative output](../api/model.rst#summer2.model.CompartmentalModel.request_cumulative_output)** to request that the model tracks the cumulative sum of other derived outputs over time. For example, let's track total infection deaths and the total people recovered:"
   ]
  },
  {
   "cell_type": "code",
   "execution_count": null,
   "id": "interracial-wells",
   "metadata": {},
   "outputs": [],
   "source": [
    "model = build_model()\n",
    "model.request_output_for_flow(name=\"deaths\", flow_name=\"infection_death\")\n",
    "\n",
    "# Request that the 'deaths' derived output is accumulated into 'deaths_cumulative'.\n",
    "model.request_cumulative_output(name=\"deaths_cumulative\", source=\"deaths\")\n",
    "\n",
    "model.run()\n",
    "model.get_derived_outputs_df().plot()"
   ]
  },
  {
   "attachments": {},
   "cell_type": "markdown",
   "id": "curious-decision",
   "metadata": {},
   "source": [
    "## Compartment outputs\n",
    "\n",
    "A **[compartment output](../api/model.rst#summer2.model.CompartmentalModel.request_output_for_compartments)** tracks the sum of one or more compartments at each timestep. These requests can also select compartments for particular strata in a stratified model (see later examples)."
   ]
  },
  {
   "cell_type": "code",
   "execution_count": null,
   "id": "preceding-tactics",
   "metadata": {},
   "outputs": [],
   "source": [
    "model = build_model()\n",
    "\n",
    "# Request that the S and R compartment sizes are combined into 'uninfected'.\n",
    "model.request_output_for_compartments(name=\"uninfected\", compartments=[\"S\", \"R\"])\n",
    "\n",
    "model.run()\n",
    "model.get_derived_outputs_df().plot()"
   ]
  },
  {
   "attachments": {},
   "cell_type": "markdown",
   "id": "behind-percentage",
   "metadata": {},
   "source": [
    "## Aggregate outputs\n",
    "\n",
    "You can use an **[aggregate output](../api/model.rst#summer2.model.CompartmentalModel.request_aggregate_output)** to request an aggregate of other derived outputs."
   ]
  },
  {
   "cell_type": "code",
   "execution_count": null,
   "id": "typical-paragraph",
   "metadata": {},
   "outputs": [],
   "source": [
    "model = build_model()\n",
    "\n",
    "# Track some flows.\n",
    "model.request_output_for_flow(name=\"deaths\", flow_name=\"infection_death\")\n",
    "model.request_output_for_flow(name=\"recoveries\", flow_name=\"recovery\")\n",
    "\n",
    "# Accumulate the flows.\n",
    "model.request_cumulative_output(name=\"deaths_cumulative\", source=\"deaths\")\n",
    "model.request_cumulative_output(name=\"recoveries_cumulative\", source=\"recoveries\")\n",
    "\n",
    "# Aggregate 'deaths_cumulative' and 'recovered_cumulative' into a single output.\n",
    "model.request_aggregate_output(\n",
    "    name=\"dead_or_recovered_cumulative\",\n",
    "    sources=[\"deaths_cumulative\", \"recoveries_cumulative\"]\n",
    ")\n",
    "\n",
    "model.run()\n",
    "model.get_derived_outputs_df().plot()\n",
    "# (In this simple model, this could be also easily be tracked as the complement of the the susceptible population.)"
   ]
  },
  {
   "attachments": {},
   "cell_type": "markdown",
   "id": "activated-teach",
   "metadata": {},
   "source": [
    "## Function outputs\n",
    "\n",
    "You can use **[function outputs](../api/model.rst#summer2.model.CompartmentalModel.request_function_output)** to calculate outputs with a user-defined function. This function consumes timeseries arrays of other derived outputs as inputs, and produces (typically) an array of the same size\n",
    "as output\n",
    "\n",
    "For example, here we request a calculation that gets us the prevalence of the disease."
   ]
  },
  {
   "cell_type": "code",
   "execution_count": null,
   "id": "44be11bf",
   "metadata": {},
   "outputs": [],
   "source": [
    "from summer2.parameters import Function, DerivedOutput"
   ]
  },
  {
   "cell_type": "code",
   "execution_count": null,
   "id": "vital-yacht",
   "metadata": {},
   "outputs": [],
   "source": [
    "model = build_model()\n",
    "\n",
    "# Track the number of infectious people as a derived output.\n",
    "# Here we use `save_results=False` because although we need this as an intermediary value to\n",
    "# calculate results, we do not want to store the full series\n",
    "model.request_output_for_compartments(name=\"count_infectious\", compartments=[\"I\"], save_results=False)\n",
    "\n",
    "# Track the total population as a derived output.\n",
    "model.request_output_for_compartments(name=\"total_population\", compartments=[\"S\", \"I\", \"R\"], save_results=False)\n",
    "\n",
    "# Construct a computegraph Function\n",
    "infectious_prevalence = DerivedOutput(\"count_infectious\") / DerivedOutput(\"total_population\")\n",
    "\n",
    "# Request a function output, using our constructed Function object\n",
    "model.request_function_output(\n",
    "    name=\"prevalence\",\n",
    "    func=infectious_prevalence\n",
    ")\n",
    "\n",
    "model.run()\n",
    "model.get_derived_outputs_df().plot()"
   ]
  },
  {
   "cell_type": "markdown",
   "id": "responsible-reality",
   "metadata": {},
   "source": [
    "## Summary\n",
    "\n",
    "That's it for now, now you know how to:\n",
    "\n",
    "- Request derived outputs\n",
    "- Chain and combine derived outputs\n",
    "- Access and visualize the derived outputs\n",
    "\n",
    "A detailed API reference of the CompartmentalModel class can be found [here](../api/model.rst#summer2.model.CompartmentalModel)"
   ]
  },
  {
   "cell_type": "code",
   "execution_count": null,
   "id": "standing-revelation",
   "metadata": {},
   "outputs": [],
   "source": []
  }
 ],
 "metadata": {
  "kernelspec": {
   "display_name": "Python 3.9.13 ('jaxtest')",
   "language": "python",
   "name": "python3"
  },
  "language_info": {
   "codemirror_mode": {
    "name": "ipython",
    "version": 3
   },
   "file_extension": ".py",
   "mimetype": "text/x-python",
   "name": "python",
   "nbconvert_exporter": "python",
   "pygments_lexer": "ipython3",
   "version": "3.9.13"
  },
  "vscode": {
   "interpreter": {
    "hash": "79d70c6600ff0f236e7435c5ae4904b6925bd23ac9f566aeb17edb414d890ad2"
   }
  }
 },
 "nbformat": 4,
 "nbformat_minor": 5
}
