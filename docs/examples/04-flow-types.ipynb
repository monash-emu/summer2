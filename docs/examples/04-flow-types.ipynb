{
 "cells": [
  {
   "attachments": {},
   "cell_type": "markdown",
   "id": "ignored-international",
   "metadata": {},
   "source": [
    "# Flow types\n",
    "\n",
    "Summer's [CompartmentalModel](../api/model.rst) class offers a variety of intercompartmental flows that you can use to define the dynamics of your model. In this example we will cover:\n",
    "\n",
    "- [Transition flow](#Transition-flow) ([docs](../api/model.rst#summer2.model.CompartmentalModel.add_transition_flow))\n",
    "- [Infection density flow](#Infection-density-flow) ([docs](../api/model.rst#summer2.model.CompartmentalModel.add_infection_density_flow))\n",
    "- [Infection frequency flow](#Infection-frequency-flow) ([docs](../api/model.rst#summer2.model.CompartmentalModel.add_infection_frequency_flow))\n",
    "- [Death flow](#Death-flow) ([docs](../api/model.rst#summer2.model.CompartmentalModel.add_death_flow))\n",
    "- [Universal death flows](#Universal-death-flow) ([docs](../api/model.rst#summer2.model.CompartmentalModel.add_universal_death_flows))\n",
    "- [Crude birth flow](#Crude-birth-flow) ([docs](../api/model.rst#summer2.model.CompartmentalModel.add_crude_birth_flow))\n",
    "- [Importation flow](#Importation-flow) ([docs](../api/model.rst#summer2.model.CompartmentalModel.add_importation_flow))\n",
    "- [Replacement birth flow](#Replacement-birth-flow) ([docs](../api/model.rst#summer2.model.CompartmentalModel.add_replacement_birth_flow))\n",
    "\n",
    "First let's define some utility functions to help with the example below."
   ]
  },
  {
   "cell_type": "code",
   "execution_count": null,
   "id": "unexpected-effects",
   "metadata": {},
   "outputs": [],
   "source": [
    "from summer2 import CompartmentalModel\n",
    "import pandas as pd\n",
    "pd.options.plotting.backend = \"plotly\"\n",
    "\n",
    "def build_model():\n",
    "    \"\"\"Returns a new SIR model\"\"\"\n",
    "    return CompartmentalModel(\n",
    "        times=[0, 20],\n",
    "        compartments=[\"S\", \"I\", \"R\"],\n",
    "        infectious_compartments=[\"I\"],\n",
    "        timestep=0.1,\n",
    "    )\n"
   ]
  },
  {
   "cell_type": "markdown",
   "id": "annual-purse",
   "metadata": {},
   "source": [
    "## Transition flow\n",
    "\n",
    "With a \"fractional\" transition flow, some proportion of the people in the source compartment transition from this compartment to the destination per time unit. In the example below, 10% of infected people recover per day."
   ]
  },
  {
   "cell_type": "code",
   "execution_count": null,
   "id": "sealed-fight",
   "metadata": {},
   "outputs": [],
   "source": [
    "model = build_model()\n",
    "model.set_initial_population(distribution={\"I\": 1000})\n",
    "\n",
    "# Add a recovery flow where 10% of the source recover per time unit.\n",
    "model.add_transition_flow(\"recovery\", fractional_rate=0.1, source=\"I\", dest=\"R\")\n",
    "\n",
    "model.run()\n",
    "model.get_outputs_df().plot()"
   ]
  },
  {
   "attachments": {},
   "cell_type": "markdown",
   "id": "stable-james",
   "metadata": {},
   "source": [
    "## Time varying parameters (transition flow)\n",
    "\n",
    "The rate at which people transition can be set as a constant scalar, or it can be defined by a GraphObject (Function); typically a function of time. This is the case for **all of the flows**: every parameter can be a scalar _or_ a Function.<br>\n",
    "summer2 provides a number of convenience utilities for building these functions - in this example we use get_piecewise_scalar_function, which takes sequences of breakpoints and values as arguments"
   ]
  },
  {
   "cell_type": "code",
   "execution_count": null,
   "id": "binding-template",
   "metadata": {},
   "outputs": [],
   "source": [
    "from summer2.functions import get_piecewise_scalar_function\n",
    "\n",
    "model = build_model()\n",
    "model.set_initial_population(distribution={\"S\": 0, \"I\": 1000})\n",
    "\n",
    "# Returns the recovery rate for a given time\n",
    "# In this case there is a single breakpoint (t=10.0); before this the rate will be 0.1, and 0.4\n",
    "# from then onwards - People recover faster after day ten due to a magic drug!\n",
    "recovery_rate = get_piecewise_scalar_function([10.0], [0.1,0.4])\n",
    "    \n",
    "# Add a recovery flow where 10% of the source recover per time unit.\n",
    "model.add_transition_flow(\"recovery\", recovery_rate, \"I\", \"R\")\n",
    "\n",
    "model.run()\n",
    "model.get_outputs_df().plot()"
   ]
  },
  {
   "cell_type": "markdown",
   "id": "medium-devil",
   "metadata": {},
   "source": [
    "## Infection density flow\n",
    "\n",
    "This flow can be used to model infections using density-dependent disease transmission (as opposed to frequency dependent). This [article](https://parasiteecology.wordpress.com/2013/10/17/density-dependent-vs-frequency-dependent-disease-transmission/) may be helpful in understanding the difference between the two methods.\n",
    "\n",
    "In unstratified models, the density-dependent infection flow rate (people infected per time unit) is calculated as:\n",
    "\n",
    "```python\n",
    "# contact_rate: Rate at which effective contact happens between two individuals, i.e. contact that would result in transmission were it to occur between a susceptible and an infectious person\n",
    "# num_source: Number of people in the (susceptible) source compartment\n",
    "# num_infectious: Number of people infectious\n",
    "force_of_infection = contact_rate * num_infectious\n",
    "flow_rate = force_of_infection * num_source\n",
    "```"
   ]
  },
  {
   "cell_type": "code",
   "execution_count": null,
   "id": "subject-thursday",
   "metadata": {},
   "outputs": [],
   "source": [
    "model = build_model()\n",
    "model.set_initial_population(distribution={\"S\": 990, \"I\": 10})\n",
    "\n",
    "# Add a density dependent infection flow. \n",
    "model.add_infection_density_flow(\"infection\", contact_rate=1e-3, source=\"S\", dest=\"I\")\n",
    "\n",
    "model.run()\n",
    "model.get_outputs_df().plot()"
   ]
  },
  {
   "cell_type": "markdown",
   "id": "traditional-christopher",
   "metadata": {},
   "source": [
    "## Infection frequency flow\n",
    "\n",
    "This flow can be used to model infections using frequency-dependent disease transmission.\n",
    "\n",
    "In unstratified models, the frequency-dependent infection flow rate (the number of people infected per time unit) is calculated as:\n",
    "\n",
    "\n",
    "```python\n",
    "# contact_rate: Rate at which contact happens between people and results in a transmission\n",
    "# num_source: Number of people in the (susceptible) source compartment\n",
    "# num_infectious: Number of people infected\n",
    "# num_pop: Total number of people in the population\n",
    "force_of_infection = contact_rate * num_infectious / num_pop\n",
    "flow_rate = force_of_infection * num_source\n",
    "```"
   ]
  },
  {
   "cell_type": "code",
   "execution_count": null,
   "id": "protecting-machine",
   "metadata": {},
   "outputs": [],
   "source": [
    "model = build_model()\n",
    "model.set_initial_population(distribution={\"S\": 990, \"I\": 10})\n",
    "\n",
    "# Add a frequency dependent infection flow. \n",
    "model.add_infection_frequency_flow(\"infection\", contact_rate=1, source=\"S\", dest=\"I\")\n",
    "\n",
    "model.run()\n",
    "model.get_outputs_df().plot()"
   ]
  },
  {
   "cell_type": "markdown",
   "id": "baking-technology",
   "metadata": {},
   "source": [
    "## Death flow\n",
    "\n",
    "With a death flow, some percent of people in a user-selected source compartment die and leave the system every time unit."
   ]
  },
  {
   "cell_type": "code",
   "execution_count": null,
   "id": "impaired-assignment",
   "metadata": {},
   "outputs": [],
   "source": [
    "model = build_model()\n",
    "model.set_initial_population(distribution={\"S\": 1000, \"I\": 1000})\n",
    "\n",
    "# 3% of the infected population die per day due to the infection.\n",
    "model.add_death_flow(\"infection_death\", death_rate=0.03, source=\"I\")\n",
    "\n",
    "# 1% of the susceptible population die per day due to tiger attacks. \n",
    "model.add_death_flow(\"tiger_death\", death_rate=0.01, source=\"S\")\n",
    "\n",
    "model.request_output_for_flow(\"infection_death\", \"infection_death\")\n",
    "model.request_output_for_flow(\"tiger_death\", \"tiger_death\")\n",
    "\n",
    "model.run()\n",
    "model.get_outputs_df().plot()"
   ]
  },
  {
   "cell_type": "code",
   "execution_count": null,
   "id": "6787329e",
   "metadata": {},
   "outputs": [],
   "source": [
    "model.get_derived_outputs_df().plot()"
   ]
  },
  {
   "cell_type": "markdown",
   "id": "banner-medline",
   "metadata": {},
   "source": [
    "## Universal death flow\n",
    "\n",
    "Adding \"universal deaths\" is a convenient way to set up a death flow for every compartment, which can account for non-disease mortality (heart disease and getting hit by a bus). This is functionally the same as manually adding a death flow for every compartment. You can adjust the universal death rate for particlar strata later during the stratification process (e.g. age-based mortality)."
   ]
  },
  {
   "cell_type": "code",
   "execution_count": null,
   "id": "regulation-grave",
   "metadata": {},
   "outputs": [],
   "source": [
    "model = build_model()\n",
    "model.set_initial_population(distribution={\"S\": 700, \"I\": 200, \"R\": 100})\n",
    "\n",
    "# 2% of the population die per day for non-infection-related reasons.\n",
    "model.add_universal_death_flows(\"universal_death\", death_rate=0.02)\n",
    "\n",
    "model.run()\n",
    "model.get_outputs_df().plot()"
   ]
  },
  {
   "cell_type": "markdown",
   "id": "falling-georgia",
   "metadata": {},
   "source": [
    "## Crude birth flow\n",
    "\n",
    "Some percentage of the total population are born into the destination compartment every time unit."
   ]
  },
  {
   "cell_type": "code",
   "execution_count": null,
   "id": "downtown-project",
   "metadata": {},
   "outputs": [],
   "source": [
    "model = build_model()\n",
    "model.set_initial_population(distribution={\"S\": 700, \"I\": 600, \"R\": 500})\n",
    "\n",
    "# 5% of the total population per day are born as susceptible.\n",
    "model.add_crude_birth_flow(\"birth\", birth_rate=0.05, dest=\"S\")\n",
    "\n",
    "model.run()\n",
    "model.get_outputs_df().plot()"
   ]
  },
  {
   "cell_type": "markdown",
   "id": "sporting-reduction",
   "metadata": {},
   "source": [
    "## Importation flow\n",
    "\n",
    "An absolute number of people arrive in the destination per time unit. This can be used to model arrivals from outside of the modelled region.\n",
    "\n",
    "Note that 'split_imports' determines whether this number is split over the existing destination compartments (True), or the full number of people sent to each (False).  In this example the behaviour is the same (since the flows are to a single compartment), but for stratified models, this can be an important distinction - we will cover this in more detail in the Stratification notebook."
   ]
  },
  {
   "cell_type": "code",
   "execution_count": null,
   "id": "competent-violence",
   "metadata": {},
   "outputs": [],
   "source": [
    "model = build_model()\n",
    "model.set_initial_population(distribution={\"S\": 700, \"I\": 600, \"R\": 500})\n",
    "\n",
    "# 12 susceptible people arrive per year.\n",
    "model.add_importation_flow(\"imports\", num_imported=12, dest=\"S\", split_imports=True)\n",
    "\n",
    "# 6 infected people arrive per year.\n",
    "model.add_importation_flow(\"imports\", num_imported=6, dest=\"I\", split_imports=True)\n",
    "\n",
    "model.run()\n",
    "model.get_outputs_df().plot()"
   ]
  },
  {
   "cell_type": "markdown",
   "id": "powerful-arabic",
   "metadata": {},
   "source": [
    "## Replacement birth flow\n",
    "\n",
    "Add a flow to replace the number of deaths into the destination compartment. This means the total population should be conserved over time."
   ]
  },
  {
   "cell_type": "code",
   "execution_count": null,
   "id": "permanent-investing",
   "metadata": {},
   "outputs": [],
   "source": [
    "model = build_model()\n",
    "model.set_initial_population(distribution={\"S\": 650, \"I\": 600, \"R\": 0})\n",
    "\n",
    "# 5% of the infected population die per year due to infection.\n",
    "model.add_death_flow(\"infection_death\", death_rate=0.05, source=\"I\")\n",
    "\n",
    "# The infected people who have died arrive back in the susceptible compartment.\n",
    "model.add_replacement_birth_flow(\"births\", dest=\"S\")\n",
    "\n",
    "model.run()\n",
    "model.get_outputs_df().plot()"
   ]
  },
  {
   "cell_type": "markdown",
   "id": "metropolitan-chambers",
   "metadata": {},
   "source": [
    "## Summary\n",
    "\n",
    "That's it for now, now you know how to use all the flow types available in summer to define the dynamics of your compartmental model. In future examples you will see how to use these flows in a stratified model.\n",
    "\n",
    "A detailed API reference of the CompartmentalModel class can be found [here](../api/model.rst)"
   ]
  }
 ],
 "metadata": {
  "kernelspec": {
   "display_name": "jaxtest",
   "language": "python",
   "name": "python3"
  },
  "language_info": {
   "codemirror_mode": {
    "name": "ipython",
    "version": 3
   },
   "file_extension": ".py",
   "mimetype": "text/x-python",
   "name": "python",
   "nbconvert_exporter": "python",
   "pygments_lexer": "ipython3",
   "version": "3.9.13"
  },
  "vscode": {
   "interpreter": {
    "hash": "79d70c6600ff0f236e7435c5ae4904b6925bd23ac9f566aeb17edb414d890ad2"
   }
  }
 },
 "nbformat": 4,
 "nbformat_minor": 5
}
